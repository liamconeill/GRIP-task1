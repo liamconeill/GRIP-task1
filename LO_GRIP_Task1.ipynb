{
 "cells": [
  {
   "cell_type": "markdown",
   "id": "4aee2785",
   "metadata": {},
   "source": [
    "# Sparks Foundation GRIP - Data Science and Business Analytics\n",
    "## Task 1 - Prediction using Supervised ML\n",
    "### Liam O'Neill\n",
    "<br/><br/>\n",
    "The task is to predict a student's score based upon the number of hours they study. We will accomplish this by training a model and use it to predict the score of a student who studies for 9.25 hours per day. The data set has been provided for us and contains a .csv file with the number of hours a student has studied and their score.\n",
    "<br/><br/>\n",
    "First, we are going to start by importing all of the libraries we will need to use in this notebook:"
   ]
  },
  {
   "cell_type": "code",
   "execution_count": 1,
   "id": "1b91db39",
   "metadata": {},
   "outputs": [],
   "source": [
    "#Imports\n",
    "import numpy as np \n",
    "import pandas as pd \n",
    "import matplotlib.pyplot as plt  \n",
    "%matplotlib inline"
   ]
  },
  {
   "cell_type": "markdown",
   "id": "f55602f3",
   "metadata": {},
   "source": [
    "## Importing and Inspecting the Data\n",
    "Now that we have imported the libraries which I will be using, we'll start by importing the csv file at the link provided, and using the pandas <b>.read_csv()</b> function to create a data frame called \"study_scores\" with the data from the csv file:"
   ]
  },
  {
   "cell_type": "code",
   "execution_count": 2,
   "id": "09c13b75",
   "metadata": {},
   "outputs": [
    {
     "data": {
      "text/html": [
       "<div>\n",
       "<style scoped>\n",
       "    .dataframe tbody tr th:only-of-type {\n",
       "        vertical-align: middle;\n",
       "    }\n",
       "\n",
       "    .dataframe tbody tr th {\n",
       "        vertical-align: top;\n",
       "    }\n",
       "\n",
       "    .dataframe thead th {\n",
       "        text-align: right;\n",
       "    }\n",
       "</style>\n",
       "<table border=\"1\" class=\"dataframe\">\n",
       "  <thead>\n",
       "    <tr style=\"text-align: right;\">\n",
       "      <th></th>\n",
       "      <th>Hours</th>\n",
       "      <th>Scores</th>\n",
       "    </tr>\n",
       "  </thead>\n",
       "  <tbody>\n",
       "    <tr>\n",
       "      <th>0</th>\n",
       "      <td>2.5</td>\n",
       "      <td>21</td>\n",
       "    </tr>\n",
       "    <tr>\n",
       "      <th>1</th>\n",
       "      <td>5.1</td>\n",
       "      <td>47</td>\n",
       "    </tr>\n",
       "    <tr>\n",
       "      <th>2</th>\n",
       "      <td>3.2</td>\n",
       "      <td>27</td>\n",
       "    </tr>\n",
       "    <tr>\n",
       "      <th>3</th>\n",
       "      <td>8.5</td>\n",
       "      <td>75</td>\n",
       "    </tr>\n",
       "    <tr>\n",
       "      <th>4</th>\n",
       "      <td>3.5</td>\n",
       "      <td>30</td>\n",
       "    </tr>\n",
       "  </tbody>\n",
       "</table>\n",
       "</div>"
      ],
      "text/plain": [
       "   Hours  Scores\n",
       "0    2.5      21\n",
       "1    5.1      47\n",
       "2    3.2      27\n",
       "3    8.5      75\n",
       "4    3.5      30"
      ]
     },
     "execution_count": 2,
     "metadata": {},
     "output_type": "execute_result"
    }
   ],
   "source": [
    "#Get Data from link using pandas read_csv and display\n",
    "link = \"http://bit.ly/w-data\"\n",
    "study_scores = pd.read_csv(link)\n",
    "study_scores.head()"
   ]
  },
  {
   "cell_type": "code",
   "execution_count": 3,
   "id": "6d87701f",
   "metadata": {},
   "outputs": [
    {
     "name": "stdout",
     "output_type": "stream",
     "text": [
      "<class 'pandas.core.frame.DataFrame'>\n",
      "RangeIndex: 25 entries, 0 to 24\n",
      "Data columns (total 2 columns):\n",
      " #   Column  Non-Null Count  Dtype  \n",
      "---  ------  --------------  -----  \n",
      " 0   Hours   25 non-null     float64\n",
      " 1   Scores  25 non-null     int64  \n",
      "dtypes: float64(1), int64(1)\n",
      "memory usage: 528.0 bytes\n"
     ]
    }
   ],
   "source": [
    "study_scores.info()"
   ]
  },
  {
   "cell_type": "markdown",
   "id": "bd144cd1",
   "metadata": {},
   "source": [
    "Displayed above is the head of a data frame (first 5 rows) which shows that the import was done properly, as well as information about the data frame including the number of row, data types, on-and how many non-null values there are.\n",
    "<br></br>\n",
    "With this information, we can easily determine that due to the lack of null values, the small size of the data set, and that the values look like they match what we are looking for, no data cleaning needs to be done on this data set.\n",
    "<br></br>\n",
    "The next step from here is to inspect the data using pandas <b>.describe()</b>:"
   ]
  },
  {
   "cell_type": "code",
   "execution_count": 4,
   "id": "cb23acd2",
   "metadata": {},
   "outputs": [
    {
     "data": {
      "text/html": [
       "<div>\n",
       "<style scoped>\n",
       "    .dataframe tbody tr th:only-of-type {\n",
       "        vertical-align: middle;\n",
       "    }\n",
       "\n",
       "    .dataframe tbody tr th {\n",
       "        vertical-align: top;\n",
       "    }\n",
       "\n",
       "    .dataframe thead th {\n",
       "        text-align: right;\n",
       "    }\n",
       "</style>\n",
       "<table border=\"1\" class=\"dataframe\">\n",
       "  <thead>\n",
       "    <tr style=\"text-align: right;\">\n",
       "      <th></th>\n",
       "      <th>Hours</th>\n",
       "      <th>Scores</th>\n",
       "    </tr>\n",
       "  </thead>\n",
       "  <tbody>\n",
       "    <tr>\n",
       "      <th>count</th>\n",
       "      <td>25.000000</td>\n",
       "      <td>25.000000</td>\n",
       "    </tr>\n",
       "    <tr>\n",
       "      <th>mean</th>\n",
       "      <td>5.012000</td>\n",
       "      <td>51.480000</td>\n",
       "    </tr>\n",
       "    <tr>\n",
       "      <th>std</th>\n",
       "      <td>2.525094</td>\n",
       "      <td>25.286887</td>\n",
       "    </tr>\n",
       "    <tr>\n",
       "      <th>min</th>\n",
       "      <td>1.100000</td>\n",
       "      <td>17.000000</td>\n",
       "    </tr>\n",
       "    <tr>\n",
       "      <th>25%</th>\n",
       "      <td>2.700000</td>\n",
       "      <td>30.000000</td>\n",
       "    </tr>\n",
       "    <tr>\n",
       "      <th>50%</th>\n",
       "      <td>4.800000</td>\n",
       "      <td>47.000000</td>\n",
       "    </tr>\n",
       "    <tr>\n",
       "      <th>75%</th>\n",
       "      <td>7.400000</td>\n",
       "      <td>75.000000</td>\n",
       "    </tr>\n",
       "    <tr>\n",
       "      <th>max</th>\n",
       "      <td>9.200000</td>\n",
       "      <td>95.000000</td>\n",
       "    </tr>\n",
       "  </tbody>\n",
       "</table>\n",
       "</div>"
      ],
      "text/plain": [
       "           Hours     Scores\n",
       "count  25.000000  25.000000\n",
       "mean    5.012000  51.480000\n",
       "std     2.525094  25.286887\n",
       "min     1.100000  17.000000\n",
       "25%     2.700000  30.000000\n",
       "50%     4.800000  47.000000\n",
       "75%     7.400000  75.000000\n",
       "max     9.200000  95.000000"
      ]
     },
     "execution_count": 4,
     "metadata": {},
     "output_type": "execute_result"
    }
   ],
   "source": [
    "study_scores.describe()"
   ]
  },
  {
   "cell_type": "markdown",
   "id": "3c303dd4",
   "metadata": {},
   "source": [
    "In addition to some basic information about the data set, we can use pyplot's <b>.plot()</b> function to plot the data to inspect the general relationship between the variables visually:"
   ]
  },
  {
   "cell_type": "code",
   "execution_count": 5,
   "id": "ef62852c",
   "metadata": {},
   "outputs": [
    {
     "data": {
      "image/png": "[encoded data removed]",
      "text/plain": [
       "<Figure size 700x400 with 1 Axes>"
      ]
     },
     "metadata": {},
     "output_type": "display_data"
    }
   ],
   "source": [
    "#Plot data to visually inspect it\n",
    "study_scores.plot(x = 'Hours', y = 'Scores', label = 'Student Score', style = '.', color = 'r', figsize = (7,4), alpha = 0.5)   \n",
    "plt.xlabel('Number of Hours Studied', fontsize = 14)  \n",
    "plt.ylabel('Percent Grade', fontsize = 14)\n",
    "plt.show()"
   ]
  },
  {
   "cell_type": "markdown",
   "id": "ee22ab01",
   "metadata": {},
   "source": [
    "We can see from the plot above that there is a positive linear relationship between the number of hours studied and the grade received, which further reinforces that this prediction can be made using linear regression.\n",
    "## Splitting the Data Into a Training and Testing Set\n",
    "Before training a linear regression model, the data must be split into attributes and labels so that there is a score to predict(response) based on a number of hours studied (feature). This can be done by creating a new variable for each and selecting the column values from the original data frame using the pandas <b>.iloc[]</b> function.\n",
    "<br></br>\n",
    "Using these defined attributes/labels as well as scikit-learn's <b>train_test_split()</b> medthod, the data can be split into a training set and a test set, where the model is trained on the training set, and the model is evaluated using the test set."
   ]
  },
  {
   "cell_type": "code",
   "execution_count": 6,
   "id": "5e1b1952",
   "metadata": {},
   "outputs": [],
   "source": [
    "#Split the data into training and test sets\n",
    "from sklearn.model_selection import train_test_split \n",
    "\n",
    "X = study_scores.iloc[:, :-1].values  \n",
    "y = study_scores.iloc[:, 1].values\n",
    "\n",
    "X_train, X_test, y_train, y_test = train_test_split(X, y, test_size = 0.2, random_state = 92) "
   ]
  },
  {
   "cell_type": "markdown",
   "id": "ddd3d34f",
   "metadata": {},
   "source": [
    "<div class=\"alert alert-block alert-info\">\n",
    "    *test_size determines how much of the data makes up the test set. Test size of 0.2 means that 20% is included in the test set.\n",
    "</div>"
   ]
  },
  {
   "cell_type": "markdown",
   "id": "01e8efe8",
   "metadata": {},
   "source": [
    "## Training the Model\n",
    "Now that the training set and test set have been created, the training set can be used to train a linear regression model using scikit-learn's <b>LinearRegression()</b> and <b>.fit()</b>:"
   ]
  },
  {
   "cell_type": "code",
   "execution_count": 7,
   "id": "142991b4",
   "metadata": {},
   "outputs": [
    {
     "name": "stdout",
     "output_type": "stream",
     "text": [
      "The model's regression coefficient is: [9.84502691] and the intercept is: 2.630655770380706\n"
     ]
    }
   ],
   "source": [
    "from sklearn.linear_model import LinearRegression\n",
    "\n",
    "model = LinearRegression()  \n",
    "model.fit(X_train, y_train)\n",
    "print(\"The model's regression coefficient is:\", model.coef_, \"and the intercept is:\", model.intercept_)"
   ]
  },
  {
   "cell_type": "markdown",
   "id": "d0d0ce5c",
   "metadata": {},
   "source": [
    "The code ran with no errors, and the model regression coefficient and intercept are displayed by a print statement. We have successfully trained the model.\n",
    "<br></br>\n",
    "Using <b>model.coef_</b> and <b>model.intercept_</b> we can get the coefficient and the intercept, which we can then plot along with the data to get a visual representation of the model against the data set:"
   ]
  },
  {
   "cell_type": "code",
   "execution_count": 8,
   "id": "55277b84",
   "metadata": {},
   "outputs": [
    {
     "data": {
      "image/png": "[encoded data removed]",
      "text/plain": [
       "<Figure size 700x400 with 1 Axes>"
      ]
     },
     "metadata": {},
     "output_type": "display_data"
    }
   ],
   "source": [
    "# Plot the regression line on the Data to visualize against the data set\n",
    "study_scores.plot(x = 'Hours', y = 'Scores', label = 'Student Score', style = '.', color = 'r', figsize = (7,4), alpha = 0.5)\n",
    "lbf = model.coef_*X+model.intercept_\n",
    "plt.plot(X, lbf, label = \"Regression Model\", color = 'black', linewidth = 0.5)\n",
    "plt.xlabel('Number of Hours Studied', fontsize = 14)  \n",
    "plt.ylabel('Percent Grade', fontsize = 14)\n",
    "plt.show()"
   ]
  },
  {
   "cell_type": "markdown",
   "id": "24b2fa4d",
   "metadata": {},
   "source": [
    "## Evaluate the Model\n",
    "Next the trained model can be used to predict some scores from the test set, which can then be compared to the actual values for the given hours studied in the test set:"
   ]
  },
  {
   "cell_type": "code",
   "execution_count": 9,
   "id": "2b810e7f",
   "metadata": {},
   "outputs": [
    {
     "data": {
      "text/plain": [
       "array([29.21222842, 29.21222842, 17.39819613, 40.04175802, 75.48385489])"
      ]
     },
     "execution_count": 9,
     "metadata": {},
     "output_type": "execute_result"
    }
   ],
   "source": [
    "#Predict scores using trained model on test set\n",
    "scores_predicted = model.predict(X_test)\n",
    "scores_predicted"
   ]
  },
  {
   "cell_type": "markdown",
   "id": "ec0cab3e",
   "metadata": {},
   "source": [
    "The output above shows an array with 5 values. These are the predicted scores from the model based on the hours studied included in the test set. This on it's own doesn't tell us much, so it would be more helpful to compare the model's predicted scores to the actual scores from the test set as in the data frame below."
   ]
  },
  {
   "cell_type": "code",
   "execution_count": 10,
   "id": "b7b0a386",
   "metadata": {},
   "outputs": [
    {
     "data": {
      "text/html": [
       "<div>\n",
       "<style scoped>\n",
       "    .dataframe tbody tr th:only-of-type {\n",
       "        vertical-align: middle;\n",
       "    }\n",
       "\n",
       "    .dataframe tbody tr th {\n",
       "        vertical-align: top;\n",
       "    }\n",
       "\n",
       "    .dataframe thead th {\n",
       "        text-align: right;\n",
       "    }\n",
       "</style>\n",
       "<table border=\"1\" class=\"dataframe\">\n",
       "  <thead>\n",
       "    <tr style=\"text-align: right;\">\n",
       "      <th></th>\n",
       "      <th>Actual Score</th>\n",
       "      <th>Predicted Score</th>\n",
       "    </tr>\n",
       "  </thead>\n",
       "  <tbody>\n",
       "    <tr>\n",
       "      <th>0</th>\n",
       "      <td>30</td>\n",
       "      <td>29.212228</td>\n",
       "    </tr>\n",
       "    <tr>\n",
       "      <th>1</th>\n",
       "      <td>25</td>\n",
       "      <td>29.212228</td>\n",
       "    </tr>\n",
       "    <tr>\n",
       "      <th>2</th>\n",
       "      <td>20</td>\n",
       "      <td>17.398196</td>\n",
       "    </tr>\n",
       "    <tr>\n",
       "      <th>3</th>\n",
       "      <td>35</td>\n",
       "      <td>40.041758</td>\n",
       "    </tr>\n",
       "    <tr>\n",
       "      <th>4</th>\n",
       "      <td>69</td>\n",
       "      <td>75.483855</td>\n",
       "    </tr>\n",
       "  </tbody>\n",
       "</table>\n",
       "</div>"
      ],
      "text/plain": [
       "   Actual Score  Predicted Score\n",
       "0            30        29.212228\n",
       "1            25        29.212228\n",
       "2            20        17.398196\n",
       "3            35        40.041758\n",
       "4            69        75.483855"
      ]
     },
     "execution_count": 10,
     "metadata": {},
     "output_type": "execute_result"
    }
   ],
   "source": [
    "#Compare predicted scores to actual scores from test set\n",
    "compared = pd.DataFrame({'Actual Score': y_test, 'Predicted Score': scores_predicted})  \n",
    "compared"
   ]
  },
  {
   "cell_type": "markdown",
   "id": "ce3571bc",
   "metadata": {},
   "source": [
    "Above is a data frame containing the actual score from the test set and the corresponding predicted score from the model. Some of these values are very close (Look at the first row, a difference of less than 1%), while some are a little larger (The last row shows a difference of over 6%). The model's performance can be measured using a performance indicator.\n",
    "<br></br>\n",
    "For this performance measure, we are going to use the Root Mean Squared Error<b>(RMSE)</b>. To do this we will use scikit-learn's <b>mean_squared_error()</b> from it's metrics module, and then use numpy's <b>np.sqrt()</b> function to find the square root of the mean squared error, giving us the RMSE."
   ]
  },
  {
   "cell_type": "code",
   "execution_count": 11,
   "id": "df1e221f",
   "metadata": {},
   "outputs": [
    {
     "name": "stdout",
     "output_type": "stream",
     "text": [
      "The model's RSME is 4.303313466317969\n"
     ]
    }
   ],
   "source": [
    "#Evaluate the model using the root mean squared error\n",
    "from sklearn.metrics import mean_squared_error\n",
    "\n",
    "model_mse = mean_squared_error(y_test, scores_predicted)\n",
    "model_rmse = np.sqrt(model_mse)\n",
    "print(\"The model's RSME is\", model_rmse)"
   ]
  },
  {
   "cell_type": "markdown",
   "id": "969a468f",
   "metadata": {},
   "source": [
    "## What Would the Predicted Score of a Student Who Studies 9.25 Hours Be?\n",
    "4.3% could still be an acceptable range of error for these values, so finally the model can be used to predict a score based on new data. The original task is to predict the score of a student who studies for 9.25 hours."
   ]
  },
  {
   "cell_type": "code",
   "execution_count": 12,
   "id": "a62905b8",
   "metadata": {},
   "outputs": [
    {
     "name": "stdout",
     "output_type": "stream",
     "text": [
      "For a student who studies 9.25 hours, the model's predicted score is 93.69715467410802\n"
     ]
    }
   ],
   "source": [
    "#Make prediction for 9.25 study hours\n",
    "hours_studied = [[9.25]]\n",
    "answer = model.predict(hours_studied)\n",
    "print(\"For a student who studies 9.25 hours, the model's predicted score is {}\".format(answer[0]))"
   ]
  }
 ],
 "metadata": {
  "kernelspec": {
   "display_name": "Python 3 (ipykernel)",
   "language": "python",
   "name": "python3"
  },
  "language_info": {
   "codemirror_mode": {
    "name": "ipython",
    "version": 3
   },
   "file_extension": ".py",
   "mimetype": "text/x-python",
   "name": "python",
   "nbconvert_exporter": "python",
   "pygments_lexer": "ipython3",
   "version": "3.9.13"
  }
 },
 "nbformat": 4,
 "nbformat_minor": 5
}
